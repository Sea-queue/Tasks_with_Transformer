{
 "cells": [
  {
   "cell_type": "markdown",
   "id": "c81cac7b",
   "metadata": {},
   "source": [
    "### Translation Transformer Model:\n",
    "- Following [The Annotated Transformer](https://nlp.seas.harvard.edu/2018/04/03/attention.html)\n"
   ]
  },
  {
   "cell_type": "code",
   "execution_count": null,
   "id": "b09bbe98",
   "metadata": {},
   "outputs": [],
   "source": []
  },
  {
   "cell_type": "code",
   "execution_count": null,
   "id": "cdbb8a6c",
   "metadata": {},
   "outputs": [],
   "source": []
  },
  {
   "cell_type": "code",
   "execution_count": null,
   "id": "ff49dca3",
   "metadata": {},
   "outputs": [],
   "source": []
  }
 ],
 "metadata": {
  "kernelspec": {
   "display_name": "nlp",
   "language": "python",
   "name": "python3"
  },
  "language_info": {
   "name": "python",
   "version": "3.13.2"
  }
 },
 "nbformat": 4,
 "nbformat_minor": 5
}
